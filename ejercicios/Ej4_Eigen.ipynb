{
 "cells": [
  {
   "cell_type": "markdown",
   "metadata": {},
   "source": [
    "# Ejemplo 4. Valores y vectores propios "
   ]
  },
  {
   "cell_type": "markdown",
   "metadata": {},
   "source": [
    "Si el tensor de esfuerzos en un punto $P$, en el sistema de referencia $X,Y,Z$ está definidido por:\n",
    "\n",
    "$$\\begin{align*}\n",
    "\\\\\n",
    "&\\sigma_{xx} = 200\\dfrac{kgf}{cm^2}; \\;\\;\\; \\sigma_{yy} =0\\dfrac{kgf}{cm^2}; \\;\\;\\; \\sigma_{zz} = 0\\dfrac{kgf}{cm^2} \\\\\\\\\n",
    "&\\tau_{xy} = \\tau_{yx} =100\\dfrac{kgf}{cm^2}, \\;\\;\\; \\tau_{xz} = \\tau_{zx} =300\\dfrac{kgf}{cm^2}; \\;\\;\\;\\tau_{yz} = \\tau_{zy} = 0 \\dfrac{kgf}{cm^2}\\\\\\\\\n",
    "\\end{align*}$$\n",
    "\n",
    "<img src=\"./img/Sorigen.png\" alt=\"Estado de esfuerzos.\" style=\"width:300px\">\n",
    "\n",
    "\n",
    "* Determine los valores y direcciones principales:\n",
    "\n"
   ]
  },
  {
   "cell_type": "markdown",
   "metadata": {},
   "source": [
    "## Solución:"
   ]
  },
  {
   "cell_type": "markdown",
   "metadata": {},
   "source": [
    "Inicialmente encontremos los valores principales $(\\lambda)$ a partir de la solución del polinomio característico: \n",
    "\n",
    "${\\lambda ^3} - {I_\\sigma}{\\lambda ^2} + {II_\\sigma}\\lambda  - {III_\\sigma} = 0$\n",
    "\n",
    "Donde ${I_\\sigma}$, ${II_\\sigma}$ y ${III_\\sigma}$ son los invariantes 1, 2 y 3 respectivamente que están dados por: \n",
    "\n",
    "${I_\\sigma } = {\\sigma _{xx}} + {\\sigma _{yy}} + {\\sigma _{zz}}$\n",
    "\n",
    "${II_\\sigma } = {\\sigma _{xx}}{\\sigma _{yy}} + {\\sigma _{xx}}{\\sigma _{zz}} + {\\sigma _{zz}}{\\sigma _{yy}} - \\tau _{xy}^2 - \\tau _{xz}^2 - \\tau _{yz}^2$\n",
    "\n",
    "${III_\\sigma } = {\\sigma _{xx}}{\\sigma _{yy}}{\\sigma _{zz}} + 2{\\tau _{xy}}{\\tau _{xz}}{\\tau _{yz}} - {\\sigma _{xx}}\\tau _{yz}^2 - {\\sigma _{yy}}\\tau _{xz}^2 - {\\sigma _{zz}}\\tau _{xy}^2$"
   ]
  },
  {
   "cell_type": "code",
   "execution_count": 1,
   "metadata": {},
   "outputs": [
    {
     "name": "stdout",
     "output_type": "stream",
     "text": [
      "Invariantes: 200.0, -100000.0, 0.0\n"
     ]
    }
   ],
   "source": [
    "from __future__ import division, print_function\n",
    "import numpy as np\n",
    "from scipy import linalg\n",
    "\n",
    "S = np.array([\n",
    "    [200,100,300.],\n",
    "    [100,0,0],\n",
    "    [300,0,0]])\n",
    "\n",
    "IS   = S[0,0]+S[1,1]+S[2,2]\n",
    "IIS  = S[0,0]*S[1,1]+S[1,1]*S[2,2]+S[0,0]*S[2,2]-(S[0,1]**2)-(S[0,2]**2)-(S[1,2]**2)\n",
    "IIIS = S[0,0]*S[1,1]*S[2,2]-S[0,0]*(S[1,2]**2)-S[1,1]*(S[0,2]**2)-S[2,2]*(S[0,1]**2)+2*S[1,2]*S[0,2]*S[0,1]\n",
    "\n",
    "\n",
    "print('Invariantes: {}, {}, {}'.format(IS,IIS,IIIS))\n",
    " "
   ]
  },
  {
   "cell_type": "markdown",
   "metadata": {},
   "source": [
    "## Resolviendo usando el polinomio característico:"
   ]
  },
  {
   "cell_type": "code",
   "execution_count": 2,
   "metadata": {},
   "outputs": [
    {
     "name": "stdout",
     "output_type": "stream",
     "text": [
      "Esfuerzos principales: [-231.7    0.   431.7]\n"
     ]
    }
   ],
   "source": [
    "coeff = [1.0,-IS,IIS,-IIIS]\n",
    "ps=np.roots(coeff)\n",
    "\n",
    "print(\"Esfuerzos principales: {}\".format(np.sort(np.round(ps, 1))))"
   ]
  },
  {
   "cell_type": "markdown",
   "metadata": {},
   "source": [
    "## Resolviendo usando librerías de Python\n",
    "\n",
    "Usando ``linalg.eig`` podemos encontrar valores (``vals``) y direcciones\n",
    "principales (``dirs``) simultaneamente\n"
   ]
  },
  {
   "cell_type": "code",
   "execution_count": 3,
   "metadata": {},
   "outputs": [
    {
     "name": "stdout",
     "output_type": "stream",
     "text": [
      "Esfuerzos principales: [-231.66247904    0.          431.66247904]\n"
     ]
    }
   ],
   "source": [
    "vals, dirs = linalg.eigh(S)\n",
    "\n",
    "print(\"Esfuerzos principales: {}\".format(vals))"
   ]
  },
  {
   "cell_type": "raw",
   "metadata": {},
   "source": [
    "Por otro lado, las direcciones principales,\n",
    "presentadas como vectores columna, serían:"
   ]
  },
  {
   "cell_type": "code",
   "execution_count": 4,
   "metadata": {},
   "outputs": [
    {
     "name": "stdout",
     "output_type": "stream",
     "text": [
      "n= [[ 0.59096897  0.          0.80669429]\n",
      " [-0.25509913 -0.9486833   0.1868808 ]\n",
      " [-0.7652974   0.31622777  0.56064239]]\n"
     ]
    }
   ],
   "source": [
    "print('n= {}'.format(dirs))"
   ]
  },
  {
   "cell_type": "markdown",
   "metadata": {},
   "source": [
    "De esta manera escribamos el tensor asociado a las direcciones principales: "
   ]
  },
  {
   "cell_type": "code",
   "execution_count": 5,
   "metadata": {},
   "outputs": [
    {
     "name": "stdout",
     "output_type": "stream",
     "text": [
      "Sp = [[-231.66247904    0.            0.        ]\n",
      " [   0.            0.            0.        ]\n",
      " [   0.            0.          431.66247904]]\n"
     ]
    }
   ],
   "source": [
    "Sp = np.diag(vals)\n",
    "\n",
    "\n",
    "print('Sp = {}'.format(Sp))\n",
    "\n"
   ]
  },
  {
   "cell_type": "markdown",
   "metadata": {},
   "source": [
    "Que graficamente es\n",
    "<img src=\"./img/Sprinc.png\" alt=\"Estado de esfuerzos.\" style=\"width:400px\">"
   ]
  },
  {
   "cell_type": "markdown",
   "metadata": {},
   "source": [
    "Los vectores $i'$, $j'$ y $k'$ están dados por:"
   ]
  },
  {
   "cell_type": "code",
   "execution_count": 6,
   "metadata": {},
   "outputs": [
    {
     "name": "stdout",
     "output_type": "stream",
     "text": [
      "i' = [ 0.59096897 -0.25509913 -0.7652974 ]\n",
      "j' = [ 0.         -0.9486833   0.31622777]\n",
      "k' = [ 0.80669429  0.1868808   0.56064239]\n"
     ]
    }
   ],
   "source": [
    "print(\"i' = {}\".format(dirs[:, 0]))\n",
    "print(\"j' = {}\".format(dirs[:, 1]))\n",
    "print(\"k' = {}\".format(dirs[:, 2]))"
   ]
  },
  {
   "cell_type": "markdown",
   "metadata": {},
   "source": [
    "\n",
    "Verifiquemos que se cumplen los invariantes en el tensor asociado a direcciones principales:"
   ]
  },
  {
   "cell_type": "code",
   "execution_count": 7,
   "metadata": {},
   "outputs": [
    {
     "name": "stdout",
     "output_type": "stream",
     "text": [
      "Invariantes: 200.0, -100000.0, 0.0\n"
     ]
    }
   ],
   "source": [
    "IS  = Sp[0,0]+Sp[1,1]+Sp[2,2]\n",
    "IIS  = Sp[0,0]*Sp[1,1]+Sp[1,1]*Sp[2,2]+Sp[0,0]*Sp[2,2]-(Sp[0,1]**2)-(Sp[0,2]**2)-(Sp[1,2]**2)\n",
    "IIIS = Sp[0,0]*Sp[1,1]*Sp[2,2]-Sp[0,0]*(Sp[1,2]**2)-Sp[1,1]*(Sp[0,2]**2)-Sp[2,2]*(Sp[0,1]**2)+2*Sp[1,2]*Sp[0,2]*Sp[0,1]\n",
    "\n",
    "print('Invariantes: {}, {}, {}'.format(IS,IIS,IIIS))"
   ]
  },
  {
   "cell_type": "markdown",
   "metadata": {},
   "source": [
    "Para terminar se debe de tener en cuenta que las direcciones principales no son otra cosa que la matriz de cosenos directores que transformaría el tensor original al tensor en direcciones principales mediante la ecuación de transformación: \n",
    "\n",
    "\\begin{align}\n",
    "&[\\sigma']=[C][\\sigma][C]^T\\\\\n",
    "\\end{align}\n",
    "\n",
    "Teniendo en cuenta que n es dado por vectores columna entonces la matriz de cosenos directores está dada por:\n",
    "\n",
    "\\begin{align}\n",
    "&[C] = [n]^T\n",
    "\\end{align}\n",
    "\n"
   ]
  },
  {
   "cell_type": "code",
   "execution_count": 8,
   "metadata": {},
   "outputs": [
    {
     "name": "stdout",
     "output_type": "stream",
     "text": [
      "Sp = [[-231.66   -0.      0.  ]\n",
      " [  -0.      0.     -0.  ]\n",
      " [   0.     -0.    431.66]]\n"
     ]
    }
   ],
   "source": [
    "C = dirs.T\n",
    "Sp2 = np.dot(np.dot(C,S),C.T)\n",
    "\n",
    "\n",
    "print('Sp = {}'.format(np.round(Sp2, 2)))"
   ]
  },
  {
   "cell_type": "code",
   "execution_count": null,
   "metadata": {
    "collapsed": true
   },
   "outputs": [],
   "source": []
  },
  {
   "cell_type": "code",
   "execution_count": 9,
   "metadata": {},
   "outputs": [
    {
     "data": {
      "text/html": [
       "\n",
       "<link href='http://fonts.googleapis.com/css?family=Fenix' rel='stylesheet' type='text/css'>\n",
       "<link href='http://fonts.googleapis.com/css?family=Alegreya+Sans:100,300,400,500,700,800,900,100italic,300italic,400italic,500italic,700italic,800italic,900italic' rel='stylesheet' type='text/css'>\n",
       "<link href='http://fonts.googleapis.com/css?family=Source+Code+Pro:300,400' rel='stylesheet' type='text/css'>\n",
       "<style>\n",
       "/* Based on Lorena Barba template available at: https://github.com/barbagroup/AeroPython/blob/master/styles/custom.css*/\n",
       "@font-face {\n",
       "font-family: \"Computer Modern\";\n",
       "src: url('http://mirrors.ctan.org/fonts/cm-unicode/fonts/otf/cmunss.otf');\n",
       "}\n",
       "div.cell{\n",
       "width:800px;\n",
       "margin-left:16% !important;\n",
       "margin-right:auto;\n",
       "}\n",
       "h1 {\n",
       "font-family: 'Alegreya Sans', sans-serif;\n",
       "}\n",
       "h2 {\n",
       "font-family: 'Fenix', serif;\n",
       "}\n",
       "h3{\n",
       "font-family: 'Fenix', serif;\n",
       "margin-top:12px;\n",
       "margin-bottom: 3px;\n",
       "}\n",
       "h4{\n",
       "font-family: 'Fenix', serif;\n",
       "}\n",
       "h5 {\n",
       "font-family: 'Alegreya Sans', sans-serif;\n",
       "}\t\n",
       "div.text_cell_render{\n",
       "font-family: 'Alegreya Sans',Computer Modern, \"Helvetica Neue\", Arial, Helvetica, Geneva, sans-serif;\n",
       "line-height: 135%;\n",
       "font-size: 120%;\n",
       "width:600px;\n",
       "margin-left:auto;\n",
       "margin-right:auto;\n",
       "}\n",
       ".CodeMirror{\n",
       "font-family: \"Source Code Pro\";\n",
       "font-size: 90%;\n",
       "}\n",
       "/* .prompt{\n",
       "display: None;\n",
       "}*/\n",
       ".text_cell_render h1 {\n",
       "font-weight: 200;\n",
       "font-size: 50pt;\n",
       "line-height: 100%;\n",
       "color:#CD2305;\n",
       "margin-bottom: 0.5em;\n",
       "margin-top: 0.5em;\n",
       "display: block;\n",
       "}\t\n",
       ".text_cell_render h5 {\n",
       "font-weight: 300;\n",
       "font-size: 16pt;\n",
       "color: #CD2305;\n",
       "font-style: italic;\n",
       "margin-bottom: .5em;\n",
       "margin-top: 0.5em;\n",
       "display: block;\n",
       "}\n",
       ".warning{\n",
       "color: rgb( 240, 20, 20 )\n",
       "}\n",
       "</style>\n",
       "<script>\n",
       "MathJax.Hub.Config({\n",
       "TeX: {\n",
       "extensions: [\"AMSmath.js\"]\n",
       "},\n",
       "tex2jax: {\n",
       "inlineMath: [ ['$','$'], [\"\\\\(\",\"\\\\)\"] ],\n",
       "displayMath: [ ['$$','$$'], [\"\\\\[\",\"\\\\]\"] ]\n",
       "},\n",
       "displayAlign: 'center', // Change this to 'center' to center equations.\n",
       "\"HTML-CSS\": {\n",
       "styles: {'.MathJax_Display': {\"margin\": 4}}\n",
       "}\n",
       "});\n",
       "</script>\n",
       "\n",
       "\n"
      ],
      "text/plain": [
       "<IPython.core.display.HTML object>"
      ]
     },
     "execution_count": 9,
     "metadata": {},
     "output_type": "execute_result"
    }
   ],
   "source": [
    "from IPython.core.display import HTML\n",
    "def css_styling():\n",
    "    styles = open('./custom_barba.css', 'r').read()\n",
    "    return HTML(styles)\n",
    "css_styling()"
   ]
  }
 ],
 "metadata": {
  "anaconda-cloud": {},
  "kernelspec": {
   "display_name": "Python 2",
   "language": "python",
   "name": "python2"
  },
  "language_info": {
   "codemirror_mode": {
    "name": "ipython",
    "version": 2
   },
   "file_extension": ".py",
   "mimetype": "text/x-python",
   "name": "python",
   "nbconvert_exporter": "python",
   "pygments_lexer": "ipython2",
   "version": "2.7.13"
  }
 },
 "nbformat": 4,
 "nbformat_minor": 1
}

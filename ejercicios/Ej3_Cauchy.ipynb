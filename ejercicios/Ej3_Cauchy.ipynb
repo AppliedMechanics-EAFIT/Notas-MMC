{
 "cells": [
  {
   "cell_type": "markdown",
   "metadata": {},
   "source": [
    "# Ejemplo 3. Aplicación Cauchy"
   ]
  },
  {
   "cell_type": "markdown",
   "metadata": {},
   "source": [
    "Ejercicio tomado de Parcial MMC"
   ]
  },
  {
   "cell_type": "code",
   "execution_count": 1,
   "metadata": {},
   "outputs": [],
   "source": [
    "from __future__ import division, print_function\n",
    "from IPython.display import Image,Latex\n",
    "from numpy import array, cross,dot, sqrt"
   ]
  },
  {
   "cell_type": "markdown",
   "metadata": {},
   "source": [
    "Si el tensor de esfuerzos en un punto $P$, en el sistema de referencia $X,Y,Z$ está definidido por:\n",
    "\n",
    "$$\\begin{align}\n",
    "\\\\\n",
    "&\\sigma_{xx} = 80\\dfrac{kgf}{cm^2}; \\;\\;\\; \\sigma_{yy} = 50\\dfrac{kgf}{cm^2}; \\;\\;\\; \\sigma_{zz} = 60\\dfrac{kgf}{cm^2} \\\\\\\\\n",
    "&\\tau_{xy} = \\tau_{yx} =40\\dfrac{kgf}{cm^2}, \\;\\;\\; \\tau_{xz} = \\tau_{zx} =30\\dfrac{kgf}{cm^2}; \\;\\;\\;\\tau_{yz} = \\tau_{zy} = 10 \\dfrac{kgf}{cm^2}\\\\\\\\\n",
    "\\end{align}$$\n",
    "\n",
    "\n",
    "Y las coordenadas de los puntos $A$, $B$ y $C$  en el sitema de referencia $X,Y,Z$  son $(1,0,0)$ , $(0,2,0)$ y $(0,0,3)$  respectivamente. Se pide lo siguiente:\n"
   ]
  },
  {
   "cell_type": "markdown",
   "metadata": {},
   "source": [
    "1._Calcular el vector de tracciones $\\vec{t}$, que actua en una cara del punto $P$, que es paralela al plano que contiene  los puntos $A$ , $B$ y $C \\\\\\\\$. \n",
    "\n",
    "Solución: \n",
    "\n",
    "El vector de tracciones está dado por $$\\vec{t} = [\\sigma]\\; \\hat{n}$$\n",
    "\n",
    "Por este motivo se requiere encontrar $\\hat{n}$, el cual para nuestro problema no es más que un vector perpendicular al plano formado por los puntos $A$, $B$, $C$. \n",
    "\n",
    "Hagamos entonces una base con los vectores: $\\vec{AB} = \\vec{B} - \\vec{A}$ y $\\vec{AC} = \\vec{C} - \\vec{A}$"
   ]
  },
  {
   "cell_type": "code",
   "execution_count": 2,
   "metadata": {
    "scrolled": true
   },
   "outputs": [
    {
     "name": "stdout",
     "output_type": "stream",
     "text": [
      "AB = [ 3.  2.  0.]\n",
      "AC = [-1.  0.  3.]\n"
     ]
    }
   ],
   "source": [
    "AB = array([4.0,2.,0.]) - array([1., 0.,0.])\n",
    "AC = array([0.,0.,3.]) - array([1., 0.,0.])\n",
    "print('AB = {}'.format(AB))\n",
    "print('AC = {}'.format(AC))"
   ]
  },
  {
   "cell_type": "markdown",
   "metadata": {},
   "source": [
    "El vector unitarion $\\hat{n}$ es entonces obtenido como $$ \\vec{n} = \\frac{\\vec{AB} \\times \\vec{AC}}{\\|\\vec{AB} \\times \\vec{AC}\\|} $$"
   ]
  },
  {
   "cell_type": "code",
   "execution_count": 3,
   "metadata": {
    "scrolled": true
   },
   "outputs": [
    {
     "name": "stdout",
     "output_type": "stream",
     "text": [
      "Normal = [ 6. -9.  2.]\n",
      "Magnitud = 11.0\n"
     ]
    }
   ],
   "source": [
    "Nor = cross(AB,AC)  \n",
    "MNor = sqrt(dot(Nor,Nor))\n",
    "n = Nor / MNor\n",
    "print('Normal = {}'.format(Nor))\n",
    "print('Magnitud = {}'.format(MNor))"
   ]
  },
  {
   "cell_type": "markdown",
   "metadata": {},
   "source": [
    "Por otro lado, el tensor $[\\sigma]$ sería "
   ]
  },
  {
   "cell_type": "code",
   "execution_count": 4,
   "metadata": {
    "collapsed": true
   },
   "outputs": [],
   "source": [
    "Sigma = ([[80., 40., 30.], \n",
    "           [40.,50., 10.],\n",
    "           [30., 10., 60.]])"
   ]
  },
  {
   "cell_type": "markdown",
   "metadata": {},
   "source": [
    "Con esto, el vector de tracciones $\\vec{t}$ sería entonces: "
   ]
  },
  {
   "cell_type": "code",
   "execution_count": 5,
   "metadata": {},
   "outputs": [
    {
     "name": "stdout",
     "output_type": "stream",
     "text": [
      "[ 16.36 -17.27  19.09]\n"
     ]
    }
   ],
   "source": [
    "t = dot(Sigma,n)\n",
    "print(t.round(2))"
   ]
  },
  {
   "cell_type": "markdown",
   "metadata": {},
   "source": [
    "2.Calcular el esfuerzo normal al que está sometida la cara del punto $P$, que es paralela al plano que contiene los puntos $A$ , $B$ y $C \\\\\\\\$. \n",
    "\n",
    "Solución:\n",
    "El esfuerzo normal no es más que la proyección escalar de $\\vec{t}$ sobre el vector normal unitario $\\hat{n}$. Es otras palabras $\\sigma_{nn} = {\\vec{t} \\cdot \\hat{n}}$\n",
    "\n"
   ]
  },
  {
   "cell_type": "code",
   "execution_count": 6,
   "metadata": {},
   "outputs": [
    {
     "name": "stdout",
     "output_type": "stream",
     "text": [
      "26.53\n"
     ]
    }
   ],
   "source": [
    "Sigmann = dot(t,n)\n",
    "print(Sigmann.round(2))"
   ]
  },
  {
   "cell_type": "markdown",
   "metadata": {},
   "source": [
    "3.Calcular la magnitud del esfuerzo tangencial al que está sometida la cara del punto $P$, que es paralela al plano que contiene los puntos $A$ , $B$ y $C \\\\\\\\$\n",
    "\n",
    "Solución\n",
    "\n",
    "Teniendo el vector $\\vec{t}$ y su componente normal la componente normal $\\sigma_{nn}$, la magnitud de la compenente tangencial $\\tau$, se calcularía a partir de:\n",
    "\n",
    "$\\|\\vec{t}\\|^2 =  \\|\\sigma_{nn}\\|^2 + \\|\\tau\\|^2$\n",
    "    \n",
    "Despejando $\\tau$, se obtiene:\n"
   ]
  },
  {
   "cell_type": "code",
   "execution_count": 7,
   "metadata": {
    "scrolled": false
   },
   "outputs": [
    {
     "name": "stdout",
     "output_type": "stream",
     "text": [
      "15.06\n"
     ]
    }
   ],
   "source": [
    "tau = sqrt(dot(t,t) - Sigmann**2) \n",
    "print(tau.round(2))"
   ]
  },
  {
   "cell_type": "code",
   "execution_count": null,
   "metadata": {
    "collapsed": true
   },
   "outputs": [],
   "source": []
  },
  {
   "cell_type": "code",
   "execution_count": 8,
   "metadata": {},
   "outputs": [
    {
     "data": {
      "text/html": [
       "\n",
       "<link href='http://fonts.googleapis.com/css?family=Fenix' rel='stylesheet' type='text/css'>\n",
       "<link href='http://fonts.googleapis.com/css?family=Alegreya+Sans:100,300,400,500,700,800,900,100italic,300italic,400italic,500italic,700italic,800italic,900italic' rel='stylesheet' type='text/css'>\n",
       "<link href='http://fonts.googleapis.com/css?family=Source+Code+Pro:300,400' rel='stylesheet' type='text/css'>\n",
       "<style>\n",
       "/* Based on Lorena Barba template available at: https://github.com/barbagroup/AeroPython/blob/master/styles/custom.css*/\n",
       "@font-face {\n",
       "font-family: \"Computer Modern\";\n",
       "src: url('http://mirrors.ctan.org/fonts/cm-unicode/fonts/otf/cmunss.otf');\n",
       "}\n",
       "div.cell{\n",
       "width:800px;\n",
       "margin-left:16% !important;\n",
       "margin-right:auto;\n",
       "}\n",
       "h1 {\n",
       "font-family: 'Alegreya Sans', sans-serif;\n",
       "}\n",
       "h2 {\n",
       "font-family: 'Fenix', serif;\n",
       "}\n",
       "h3{\n",
       "font-family: 'Fenix', serif;\n",
       "margin-top:12px;\n",
       "margin-bottom: 3px;\n",
       "}\n",
       "h4{\n",
       "font-family: 'Fenix', serif;\n",
       "}\n",
       "h5 {\n",
       "font-family: 'Alegreya Sans', sans-serif;\n",
       "}\t\n",
       "div.text_cell_render{\n",
       "font-family: 'Alegreya Sans',Computer Modern, \"Helvetica Neue\", Arial, Helvetica, Geneva, sans-serif;\n",
       "line-height: 135%;\n",
       "font-size: 120%;\n",
       "width:600px;\n",
       "margin-left:auto;\n",
       "margin-right:auto;\n",
       "}\n",
       ".CodeMirror{\n",
       "font-family: \"Source Code Pro\";\n",
       "font-size: 90%;\n",
       "}\n",
       "/* .prompt{\n",
       "display: None;\n",
       "}*/\n",
       ".text_cell_render h1 {\n",
       "font-weight: 200;\n",
       "font-size: 50pt;\n",
       "line-height: 100%;\n",
       "color:#CD2305;\n",
       "margin-bottom: 0.5em;\n",
       "margin-top: 0.5em;\n",
       "display: block;\n",
       "}\t\n",
       ".text_cell_render h5 {\n",
       "font-weight: 300;\n",
       "font-size: 16pt;\n",
       "color: #CD2305;\n",
       "font-style: italic;\n",
       "margin-bottom: .5em;\n",
       "margin-top: 0.5em;\n",
       "display: block;\n",
       "}\n",
       ".warning{\n",
       "color: rgb( 240, 20, 20 )\n",
       "}\n",
       "</style>\n",
       "<script>\n",
       "MathJax.Hub.Config({\n",
       "TeX: {\n",
       "extensions: [\"AMSmath.js\"]\n",
       "},\n",
       "tex2jax: {\n",
       "inlineMath: [ ['$','$'], [\"\\\\(\",\"\\\\)\"] ],\n",
       "displayMath: [ ['$$','$$'], [\"\\\\[\",\"\\\\]\"] ]\n",
       "},\n",
       "displayAlign: 'center', // Change this to 'center' to center equations.\n",
       "\"HTML-CSS\": {\n",
       "styles: {'.MathJax_Display': {\"margin\": 4}}\n",
       "}\n",
       "});\n",
       "</script>\n",
       "\n",
       "\n"
      ],
      "text/plain": [
       "<IPython.core.display.HTML object>"
      ]
     },
     "execution_count": 8,
     "metadata": {},
     "output_type": "execute_result"
    }
   ],
   "source": [
    "from IPython.core.display import HTML\n",
    "def css_styling():\n",
    "    styles = open('./custom_barba.css', 'r').read()\n",
    "    return HTML(styles)\n",
    "css_styling()"
   ]
  }
 ],
 "metadata": {
  "anaconda-cloud": {},
  "kernelspec": {
   "display_name": "Python 2",
   "language": "python",
   "name": "python2"
  },
  "language_info": {
   "codemirror_mode": {
    "name": "ipython",
    "version": 2
   },
   "file_extension": ".py",
   "mimetype": "text/x-python",
   "name": "python",
   "nbconvert_exporter": "python",
   "pygments_lexer": "ipython2",
   "version": "2.7.13"
  }
 },
 "nbformat": 4,
 "nbformat_minor": 1
}

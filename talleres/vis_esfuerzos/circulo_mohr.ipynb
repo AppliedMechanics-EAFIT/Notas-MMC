{
 "cells": [
  {
   "cell_type": "markdown",
   "metadata": {},
   "source": [
    "# Visualización del tensor de esfuerzos usando el círculo de Mohr"
   ]
  },
  {
   "cell_type": "markdown",
   "metadata": {},
   "source": [
    "El cículo de Mohr, nombrado por Christian Otto Mohr, es una representación\n",
    "gráfica en dos dimensiones de la ley de transformación para el tensor\n",
    "de esfuerzos de Cauchy.\n",
    "\n",
    "\n",
    "Luego de realizar un análisis de esfuerzos en un continuo las componentes\n",
    "del tensor de esfuerzos en un punto material se conocen con respecto a\n",
    "un sistema coordenado. El círculo de Mohr se usa para determinar gráficamente\n",
    "las componentes del esfuerzo actuando en un sistema coordenado rotado, es decir,\n",
    "actuando en planos con orientación diferente que pasan por el punto."
   ]
  },
  {
   "cell_type": "code",
   "execution_count": null,
   "metadata": {},
   "outputs": [],
   "source": [
    "%matplotlib notebook"
   ]
  },
  {
   "cell_type": "code",
   "execution_count": null,
   "metadata": {},
   "outputs": [],
   "source": [
    "import numpy as np\n",
    "import matplotlib.pyplot as plt\n",
    "from scipy.linalg import eigvalsh\n",
    "from ipywidgets import interact\n",
    "# from IPython.display import display"
   ]
  },
  {
   "cell_type": "markdown",
   "metadata": {},
   "source": [
    "## Círculo de Mohr en 2D"
   ]
  },
  {
   "cell_type": "markdown",
   "metadata": {},
   "source": [
    "La siguiente función permite graficar el círculo de Mohr para\n",
    "tensores en 2D.\n",
    "\n",
    "Los parámetros de entrada son los esfuerzos $\\sigma_{11}$,\n",
    "$\\sigma_{12}$, $\\sigma_{22}$."
   ]
  },
  {
   "cell_type": "code",
   "execution_count": null,
   "metadata": {},
   "outputs": [],
   "source": [
    "def mohr2d(S11=10, S12=0, S22=-5):\n",
    "    \"\"\"Plot Mohr circle for a 2D tensor\"\"\"\n",
    "    center = [(S11 + S22)/2.0, 0.0]\n",
    "    radius = np.sqrt((S11 - S22)**2/4.0 + S12**2)\n",
    "    Smin = center[0] - radius\n",
    "    Smax = center[0] + radius\n",
    "    \n",
    "    print(\"Minimum Normal Stress: \", np.round(Smin,6))\n",
    "    print(\"Maximum Normal Stress: \", np.round(Smax, 6))\n",
    "    print(\"Average Normal Stress: \", np.round(center[0], 6))\n",
    "    print(\"Minimum Shear Stress: \", np.round(-radius, 6))\n",
    "    print(\"Maximum Shear Stress: \", np.round(radius, 6))\n",
    "   \n",
    "    plt.figure(figsize=(4, 4))\n",
    "    circ = plt.Circle((center[0],0), radius, facecolor='#cce885', lw=3,\n",
    "    edgecolor='#5c8037') \n",
    "    plt.axis('image')\n",
    "    ax = plt.gca() \n",
    "    ax.add_artist(circ)\n",
    "    ax.set_xlim(Smin - .1*radius, Smax + .1*radius)\n",
    "    ax.set_ylim(-1.1*radius, 1.1*radius)\n",
    "    plt.plot([S22, S11], [S12, -S12], 'ko')\n",
    "    plt.plot([S22, S11], [S12, -S12], 'k')\n",
    "    plt.plot(center[0], center[1], 'o', mfc='w')\n",
    "    plt.text(S22 + 0.1*radius, S12, 'A')\n",
    "    plt.text(S11 + 0.1*radius, -S12, 'B')\n",
    "    plt.xlabel(r\"$\\sigma$\", size=18)\n",
    "    plt.ylabel(r\"$\\tau$\", size=18) \n",
    "        "
   ]
  },
  {
   "cell_type": "markdown",
   "metadata": {},
   "source": [
    "Probemos a visualizar el tensor\n",
    "\n",
    "$$[\\sigma] = \\begin{bmatrix}\n",
    "5 &3\\\\\n",
    "3 &-2\\end{bmatrix}$$"
   ]
  },
  {
   "cell_type": "code",
   "execution_count": null,
   "metadata": {},
   "outputs": [],
   "source": [
    "mohr2d(S11=5, S12=3, S22=-2)"
   ]
  },
  {
   "cell_type": "markdown",
   "metadata": {},
   "source": [
    "La función ``interact`` nos permite crear _widgets_ para variar\n",
    "los parámetros de una función de forma interactiva."
   ]
  },
  {
   "cell_type": "code",
   "execution_count": null,
   "metadata": {},
   "outputs": [],
   "source": [
    "interact(mohr2d, S11=(-100.,100.), S12=(-100.,100.), S22=(-100.,100.));"
   ]
  },
  {
   "cell_type": "markdown",
   "metadata": {},
   "source": [
    "## Círculo de Mohr para esfuerzos en 3D"
   ]
  },
  {
   "cell_type": "markdown",
   "metadata": {},
   "source": [
    "De la misma forma que usamos el círculo de Mohr para visualizar esfuerzos\n",
    "en 2D, podemos hacerlo en 3D."
   ]
  },
  {
   "cell_type": "code",
   "execution_count": null,
   "metadata": {},
   "outputs": [],
   "source": [
    "def mohr3d(S11=90, S12=0, S13=95, S22=96, S23=0, S33=-50):\n",
    "    r\"\"\"Plot 3D Mohr circles.\"\"\"\n",
    "    \n",
    "    S = np.array([[S11, S12, S13],\n",
    "                  [S12, S22, S23],\n",
    "                  [S13, S23, S33]])\n",
    "    \n",
    "    S3, S2, S1 = eigvalsh(S)\n",
    "\n",
    "    R_maj = 0.5*(S1 - S3)\n",
    "    cent_maj = 0.5*(S1+S3)\n",
    "    \n",
    "    R_min = 0.5*(S2 - S3)\n",
    "    cent_min = 0.5*(S2 + S3)\n",
    "    \n",
    "    R_mid = 0.5*(S1 - S2)\n",
    "    cent_mid = 0.5*(S1 + S2)\n",
    "    \n",
    "    plt.figure()\n",
    "    circ1 = plt.Circle((cent_maj,0), R_maj, facecolor='#cce885', lw=3,\n",
    "                       edgecolor='#5c8037')\n",
    "    circ2 = plt.Circle((cent_min,0), R_min, facecolor='w', lw=3,\n",
    "                       edgecolor='#15a1bd')\n",
    "    circ3 = plt.Circle((cent_mid,0), R_mid, facecolor='w', lw=3,\n",
    "                       edgecolor='#e4612d')\n",
    "    plt.axis('image')\n",
    "    ax = plt.gca()\n",
    "    ax.add_artist(circ1)\n",
    "    ax.add_artist(circ2)\n",
    "    ax.add_artist(circ3)\n",
    "    ax.set_xlim(S3 - .1*R_maj, S1 + .1*R_maj)\n",
    "    ax.set_ylim(-1.1*R_maj, 1.1*R_maj)\n",
    "    plt.xlabel(r\"$\\sigma$\", size=18)\n",
    "    plt.ylabel(r\"$\\tau$\", size=18)"
   ]
  },
  {
   "cell_type": "code",
   "execution_count": null,
   "metadata": {},
   "outputs": [],
   "source": [
    "w = interact(mohr3d,\n",
    "             S11=(-100.,100.),\n",
    "             S12=(-100.,100.),\n",
    "             S13=(-100.,100.),\n",
    "             S22=(-100.,100.),\n",
    "             S23=(-100.,100.),\n",
    "             S33=(-100.,100.))"
   ]
  },
  {
   "cell_type": "code",
   "execution_count": null,
   "metadata": {},
   "outputs": [],
   "source": []
  }
 ],
 "metadata": {
  "kernelspec": {
   "display_name": "Python 3",
   "language": "python",
   "name": "python3"
  },
  "language_info": {
   "codemirror_mode": {
    "name": "ipython",
    "version": 3
   },
   "file_extension": ".py",
   "mimetype": "text/x-python",
   "name": "python",
   "nbconvert_exporter": "python",
   "pygments_lexer": "ipython3",
   "version": "3.8.5"
  },
  "varInspector": {
   "cols": {
    "lenName": 16,
    "lenType": 16,
    "lenVar": 40
   },
   "kernels_config": {
    "python": {
     "delete_cmd_postfix": "",
     "delete_cmd_prefix": "del ",
     "library": "var_list.py",
     "varRefreshCmd": "print(var_dic_list())"
    },
    "r": {
     "delete_cmd_postfix": ") ",
     "delete_cmd_prefix": "rm(",
     "library": "var_list.r",
     "varRefreshCmd": "cat(var_dic_list()) "
    }
   },
   "types_to_exclude": [
    "module",
    "function",
    "builtin_function_or_method",
    "instance",
    "_Feature"
   ],
   "window_display": false
  }
 },
 "nbformat": 4,
 "nbformat_minor": 1
}

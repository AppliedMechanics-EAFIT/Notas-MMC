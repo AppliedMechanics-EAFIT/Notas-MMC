{
 "cells": [
  {
   "cell_type": "markdown",
   "metadata": {},
   "source": [
    "# Visualización del tensor de esfuerzos: Esfera de tracciones"
   ]
  },
  {
   "cell_type": "code",
   "execution_count": null,
   "metadata": {},
   "outputs": [],
   "source": [
    "%matplotlib notebook"
   ]
  },
  {
   "cell_type": "code",
   "execution_count": null,
   "metadata": {},
   "outputs": [],
   "source": [
    "import numpy as np\n",
    "import matplotlib.pyplot as plt\n",
    "from mpl_toolkits.mplot3d import Axes3D"
   ]
  },
  {
   "cell_type": "code",
   "execution_count": null,
   "metadata": {},
   "outputs": [],
   "source": [
    "def traction_circle(stress, npts=48, ax=None):\n",
    "    \"\"\"\n",
    "    Visualize a second order tensor as a collection of\n",
    "    tractions vectors over a circle.\n",
    "    Parameters\n",
    "    ----------\n",
    "    stress : ndarray\n",
    "        Stress tensor.\n",
    "    npts : int, optional\n",
    "        Number of vector to plot over the circle.\n",
    "    ax : Matplotlib axes, optional\n",
    "        Axes where the plot is going to be added.    \n",
    "    \"\"\"\n",
    "    rad = 1\n",
    "    theta = np.linspace(0, 2*np.pi, npts, endpoint=False)\n",
    "    nx = np.cos(theta)\n",
    "    ny = np.sin(theta)\n",
    "    vec = np.vstack((nx, ny))\n",
    "    tracciones = stress.dot(vec)\n",
    "    plt.figure(figsize=(4, 4))\n",
    "    ax = plt.gca()\n",
    "    plt.plot(rad * nx, rad * ny, alpha=0.5, color=\"black\", zorder=4)\n",
    "    plt.quiver(rad * nx, rad * ny, \n",
    "               nx, ny, alpha=0.3, scale=10, zorder=3)\n",
    "    plt.quiver(rad * nx, rad * ny, \n",
    "               tracciones[0, :], tracciones[1, :],\n",
    "               np.sqrt (tracciones[0, :]**2 + tracciones[1, :]**2),\n",
    "               scale=30, cmap=\"Reds\", zorder=5)\n",
    "    plt.axis(\"image\")\n",
    "    plt.xticks([])\n",
    "    plt.yticks([])\n",
    "    plt.xlabel(r\"$x$\")\n",
    "    plt.ylabel(r\"$y$\")\n",
    "    plt.xlim(-1.5, 1.5)\n",
    "    plt.ylim(-1.5, 1.5)\n",
    "    return ax"
   ]
  },
  {
   "cell_type": "code",
   "execution_count": null,
   "metadata": {},
   "outputs": [],
   "source": [
    "esfuerzo = np.array([\n",
    "    [5, 3],\n",
    "    [3, -2]])"
   ]
  },
  {
   "cell_type": "code",
   "execution_count": null,
   "metadata": {},
   "outputs": [],
   "source": [
    "traction_circle(esfuerzo)"
   ]
  },
  {
   "cell_type": "code",
   "execution_count": null,
   "metadata": {},
   "outputs": [],
   "source": [
    "def traction_sphere(stress):\n",
    "    \"\"\"\n",
    "    Visualize a second order tensor as a collection of\n",
    "    tractions vectors over a circle.\n",
    "    Parameters\n",
    "    ----------\n",
    "    stress : ndarray\n",
    "        Stress tensor.\n",
    "    npts : int, optional\n",
    "        Number of vector to plot over the circle.\n",
    "    ax : Matplotlib axes, optional\n",
    "        Axes where the plot is going to be added.    \n",
    "    \"\"\"\n",
    "    azimuth = np.linspace(0, 2*np.pi, 21)\n",
    "    zenith = np.linspace(0, np.pi, 21)\n",
    "    azimuth, zenith = np.meshgrid(azimuth, zenith)\n",
    "    X = np.sin(zenith) * np.cos(azimuth)\n",
    "    Y = np.sin(zenith) * np.sin(azimuth)\n",
    "    Z = np.cos(zenith)\n",
    "\n",
    "    vec = np.vstack((X.flatten(), Y.flatten(), Z.flatten()))\n",
    "    tracciones = stress.dot(vec)\n",
    "\n",
    "    fig = plt.figure(figsize=(4, 4))\n",
    "    ax = Axes3D(fig)\n",
    "    ax.plot_surface(X, Y, Z, rstride=1, cstride=1)\n",
    "    ax.quiver(X.flatten(), Y.flatten(), Z.flatten(),\n",
    "              tracciones[0, :], tracciones[1, :], tracciones[2, :],\n",
    "              length=0.1, normalize=False, color=\"red\")\n",
    "    return ax"
   ]
  },
  {
   "cell_type": "code",
   "execution_count": null,
   "metadata": {},
   "outputs": [],
   "source": [
    "esfuerzo_3d = np.array([\n",
    "    [5, 0, 0],\n",
    "    [0, 1, 0],\n",
    "    [0, 0, 3]])"
   ]
  },
  {
   "cell_type": "code",
   "execution_count": null,
   "metadata": {},
   "outputs": [],
   "source": [
    "traction_sphere(esfuerzo_3d);"
   ]
  },
  {
   "cell_type": "code",
   "execution_count": null,
   "metadata": {},
   "outputs": [],
   "source": []
  }
 ],
 "metadata": {
  "kernelspec": {
   "display_name": "Python 3",
   "language": "python",
   "name": "python3"
  },
  "language_info": {
   "codemirror_mode": {
    "name": "ipython",
    "version": 3
   },
   "file_extension": ".py",
   "mimetype": "text/x-python",
   "name": "python",
   "nbconvert_exporter": "python",
   "pygments_lexer": "ipython3",
   "version": "3.7.3"
  },
  "varInspector": {
   "cols": {
    "lenName": 16,
    "lenType": 16,
    "lenVar": 40
   },
   "kernels_config": {
    "python": {
     "delete_cmd_postfix": "",
     "delete_cmd_prefix": "del ",
     "library": "var_list.py",
     "varRefreshCmd": "print(var_dic_list())"
    },
    "r": {
     "delete_cmd_postfix": ") ",
     "delete_cmd_prefix": "rm(",
     "library": "var_list.r",
     "varRefreshCmd": "cat(var_dic_list()) "
    }
   },
   "types_to_exclude": [
    "module",
    "function",
    "builtin_function_or_method",
    "instance",
    "_Feature"
   ],
   "window_display": false
  }
 },
 "nbformat": 4,
 "nbformat_minor": 4
}
